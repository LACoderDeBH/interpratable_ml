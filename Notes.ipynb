{
 "cells": [
  {
   "cell_type": "markdown",
   "metadata": {},
   "source": [
    "## 2.5 Properties of Explanations\n"
   ]
  },
  {
   "cell_type": "markdown",
   "metadata": {},
   "source": [
    "- **Explanation**: relates the feature values of an instance to it model prediction in a humanly understandable way"
   ]
  },
  {
   "cell_type": "markdown",
   "metadata": {},
   "source": [
    "**Properties of Explanation Methods**\n",
    "- Expressive Power: structure of the explanations the medthos is able to generate (e.g. IF-THEN rules, decision tees, weighted sum, natural lang)\n",
    "- Translucency: how much you have to look under the hood of a model e.g. parameters\n",
    "    - methods relying on intrinsically interpretable models like linera regression (model-specific) are highly transluscent (*can rely on more information to generate explanation*)\n",
    "    - methods relying on manipulating inputs and observing rpedictions have 0 transluscency  (*more portable bc treat ML model as a black box*)  \n",
    "- Portability: range of ML models it can be used on\n",
    "    - surrogate models -> highest portability\n",
    "    - methods that only work for RNNs -> low portability\n",
    "- Algo complexity: computational complexity (consider computation time as a bottleneck in generating explanations_\n"
   ]
  },
  {
   "cell_type": "markdown",
   "metadata": {},
   "source": [
    "**Properties of Individual Explanations**\n",
    "- Accuracy: how well does explanation predict unseen data? \n",
    "    - High accuracy *Important* if the explanation is used for predictions in place of the MLmodel\n",
    "    - Low accuracy ~ fine if accuracy of the ML model is also low, and if goal is to explain what the black box model does. In this case, only fidelity is important.\n",
    "- Fidelity: How well explanation approximates predeiction of black box model \n",
    "    "
   ]
  },
  {
   "cell_type": "code",
   "execution_count": null,
   "metadata": {},
   "outputs": [],
   "source": []
  }
 ],
 "metadata": {
  "kernelspec": {
   "display_name": "Python 3",
   "language": "python",
   "name": "python3"
  },
  "language_info": {
   "codemirror_mode": {
    "name": "ipython",
    "version": 3
   },
   "file_extension": ".py",
   "mimetype": "text/x-python",
   "name": "python",
   "nbconvert_exporter": "python",
   "pygments_lexer": "ipython3",
   "version": "3.8.5"
  }
 },
 "nbformat": 4,
 "nbformat_minor": 4
}
